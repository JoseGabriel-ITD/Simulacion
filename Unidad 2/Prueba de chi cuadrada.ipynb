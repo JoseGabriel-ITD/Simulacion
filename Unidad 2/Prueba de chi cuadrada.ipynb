{
 "cells": [
  {
   "cell_type": "markdown",
   "id": "7522fd79",
   "metadata": {},
   "source": [
    "![](CintillaTecNM-ITD.png)"
   ]
  },
  {
   "cell_type": "markdown",
   "id": "90643218",
   "metadata": {},
   "source": [
    "# Simulación\n",
    "\n",
    "## Unidad 2. Números pseudoaleatorios\n",
    "\n",
    "### Facilitador: José Gabriel Rodríguez Rivas"
   ]
  },
  {
   "cell_type": "markdown",
   "id": "657c1c27",
   "metadata": {},
   "source": [
    "## Prueba de **uniformidad** con el método de **Chi-Cuadrado**"
   ]
  },
  {
   "attachments": {
    "image.png": {
     "image/png": "[encoded data removed]"
    }
   },
   "cell_type": "markdown",
   "id": "576cf41c",
   "metadata": {},
   "source": [
    "Para realizar una prueba de **uniformidad** con el método de **Chi-Cuadrado** en una secuencia de números aleatorios, primero se generan 100 números aleatorios. Luego, la prueba de Chi-Cuadrado evaluará si estos números siguen una **distribución uniforme** en un rango determinado, normalmente entre 0 y 1.\n",
    "\n",
    "A continuación te muestro cómo puedes implementar este procedimiento en Python:\n",
    "\n",
    "### Pasos del programa:\n",
    "1. **Generar 100 números aleatorios** en el rango [0, 1].\n",
    "2. **Dividir el rango [0, 1] en intervalos** (por ejemplo, 10 intervalos).\n",
    "3. **Contar la cantidad de números** que caen en cada intervalo.\n",
    "4. Calcular la **prueba Chi-Cuadrado** usando la fórmula:\n",
    "\n",
    "![image.png](attachment:image.png)\n",
    "   \n",
    "   \\[\n",
    "   \\chi^2 = \\sum \\frac{(O_i - E_i)^2}{E_i}\n",
    "   \\]\n",
    "\n",
    "Donde\n",
    "- \\(O_i\\) es el número observado en cada intervalo  \n",
    "   \n",
    "- \\(E_i\\) es el número esperado (si la distribución es uniforme, debería ser el mismo para cada intervalo).  \n"
   ]
  },
  {
   "cell_type": "markdown",
   "id": "51960e37",
   "metadata": {},
   "source": [
    "## Explicación del código:\n",
    "1. **Generación de números aleatorios:** Se generan 100 números aleatorios en el rango [0, 1] usando `np.random.uniform`.\n",
    "2. **División en intervalos:** Se utiliza `np.histogram` para dividir los números en 10 intervalos y contar cuántos caen en cada uno.\n",
    "3. **Cálculo de la prueba Chi-Cuadrado:** La función `scipy.stats.chisquare` calcula el estadístico de Chi-Cuadrado y su valor p comparando las frecuencias observadas con las frecuencias esperadas.\n",
    "4. **Interpretación del valor p:** Si el valor p es menor que 0.05, se rechaza la hipótesis nula (la secuencia no sigue una distribución uniforme). Si es mayor, no se puede rechazar la hipótesis de uniformidad.\n",
    "\n",
    "### Resultado esperado\n",
    "Al ejecutar el programa, verás las frecuencias observadas, el valor de Chi-Cuadrado, el valor p, y una conclusión sobre si los números generados siguen una distribución uniforme."
   ]
  },
  {
   "cell_type": "code",
   "execution_count": 9,
   "id": "015d3a54",
   "metadata": {},
   "outputs": [
    {
     "name": "stdout",
     "output_type": "stream",
     "text": [
      "Números aleatorios generados:\n",
      "[0.91295491 0.49709546 0.17905518 0.48408747 0.52534461 0.45854541\n",
      " 0.46790851 0.04305081 0.74460769 0.90385005 0.19473162 0.43045558\n",
      " 0.62765033 0.29942138 0.52755705 0.72036037 0.88689356 0.45967722\n",
      " 0.05549323 0.75925663 0.74176015 0.96011043 0.29310842 0.54118856\n",
      " 0.12059666 0.54212181 0.66597384 0.26683857 0.3542794  0.44597097\n",
      " 0.56613931 0.49129102 0.28697486 0.32171144 0.5965791  0.23322372\n",
      " 0.01011051 0.85232648 0.17804156 0.92860425 0.32372853 0.41576657\n",
      " 0.05072525 0.60073023 0.26830853 0.06751119 0.68054784 0.79722535\n",
      " 0.90535324 0.82402718 0.10133194 0.27556979 0.99168116 0.17946174\n",
      " 0.8694367  0.02517108 0.76500586 0.24520284 0.00749831 0.02429752\n",
      " 0.98762905 0.3135015  0.08559642 0.39372774 0.9356834  0.60657296\n",
      " 0.04174393 0.34397964 0.3165124  0.38223291 0.83240959 0.92417828\n",
      " 0.90873238 0.0768174  0.47127303 0.22937084 0.11803514 0.56400218\n",
      " 0.01389392 0.35641264 0.44132292 0.80148668 0.67439149 0.71985626\n",
      " 0.29475931 0.30703077 0.63245407 0.97293391 0.37537095 0.61358776\n",
      " 0.49517859 0.70265624 0.7312689  0.36584464 0.3850004  0.52112584\n",
      " 0.60877112 0.6424098  0.98772563 0.33140977]\n",
      "\n",
      "Bins = Categorias: [0.00749831 0.1059166  0.20433488 0.30275317 0.40117145 0.49958974\n",
      " 0.59800802 0.69642631 0.79484459 0.89326288 0.99168116]\n",
      "\n",
      "Frecuencias observadas por intervalo: [13  6 10 14 12  8 10  8  7 12]\n",
      "Frecuencia esperada por intervalo: 10.0\n",
      "Chi-Cuadrado: 6.6000000000000005\n",
      "Valor p: 0.6786857852960747\n",
      "\n",
      "No podemos rechazar la hipótesis nula: la distribución parece uniforme.\n"
     ]
    }
   ],
   "source": [
    "import numpy as np\n",
    "import scipy.stats as stats\n",
    "\n",
    "# 1. Generar 100 números aleatorios en el rango [0, 1]\n",
    "n = 100\n",
    "random_numbers = np.random.uniform(0, 1, n)\n",
    "\n",
    "# Mostrar los números aleatorios generados\n",
    "print(\"Números aleatorios generados:\")\n",
    "print(random_numbers)\n",
    "\n",
    "# 2. Dividir el rango [0, 1] en 10 intervalos ( se puede ajustar segun necesidades)\n",
    "intervalos = 10\n",
    "observed_counts, bin_edges = np.histogram(random_numbers, bins=intervalos)\n",
    "\n",
    "# 3. Número esperado en cada intervalo si la distribución es uniforme\n",
    "expected_count = n / intervalos  # Deberían caer el mismo número de números en cada intervalo\n",
    "\n",
    "# 4. Prueba de Chi-Cuadrado\n",
    "chi2_statistic, p_value = stats.chisquare(observed_counts, [expected_count]*intervalos)\n",
    "\n",
    "# 5. Mostrar resultados\n",
    "print(\"\\nBins = Categorias:\", bin_edges)\n",
    "print(\"\\nFrecuencias observadas por intervalo:\", observed_counts)\n",
    "print(\"Frecuencia esperada por intervalo:\", expected_count)\n",
    "print(\"Chi-Cuadrado:\", chi2_statistic)\n",
    "print(\"Valor p:\", p_value)\n",
    "\n",
    "# Interpretación del resultado\n",
    "if p_value < 0.05:\n",
    "    print(\"\\nRechazamos la hipótesis nula: la distribución no es uniforme.\")\n",
    "else:\n",
    "    print(\"\\nNo podemos rechazar la hipótesis nula: la distribución parece uniforme.\")\n"
   ]
  },
  {
   "cell_type": "code",
   "execution_count": null,
   "id": "5c12f4f1",
   "metadata": {},
   "outputs": [],
   "source": []
  },
  {
   "cell_type": "markdown",
   "id": "8cd2bef1",
   "metadata": {},
   "source": [
    "## Prueba con 20 numeros aleatorios definidos en lista"
   ]
  },
  {
   "cell_type": "code",
   "execution_count": 8,
   "id": "1f0a1bc2",
   "metadata": {
    "scrolled": true
   },
   "outputs": [
    {
     "name": "stdout",
     "output_type": "stream",
     "text": [
      "Números aleatorios:\n",
      "[0.94668602, 0.54427053, 0.93045344, 0.81794133, 0.26260921, 0.90275745, 0.50620145, 0.31257412, 0.59867091, 0.40920329, 0.64261071, 0.33542326, 0.61164947, 0.27293881, 0.19984419, 0.241214, 0.51083715, 0.06242835, 0.12189043, 0.23765904]\n",
      "\n",
      "Bins = Categorias: [0.06242835 0.23927988 0.41613142 0.59298295 0.76983449 0.94668602]\n",
      "\n",
      "Frecuencias observadas por intervalo: [4 6 3 3 4]\n",
      "Frecuencia esperada por intervalo: 4.0\n",
      "Chi-Cuadrado: 1.5\n",
      "Valor p: 0.8266414672967757\n",
      "\n",
      "No podemos rechazar la hipótesis nula: la distribución parece uniforme.\n"
     ]
    }
   ],
   "source": [
    "import numpy as np\n",
    "import scipy.stats as stats\n",
    "\n",
    "# 1. Generar 20 números aleatorios en el rango [0, 1]\n",
    "n = 20\n",
    "random_numbers = [  0.94668602, 0.54427053, 0.93045344, 0.81794133, 0.26260921, 0.90275745,\n",
    " 0.50620145, 0.31257412, 0.59867091, 0.40920329, 0.64261071, 0.33542326,\n",
    " 0.61164947, 0.27293881, 0.19984419, 0.241214,   0.51083715, 0.06242835,\n",
    " 0.12189043, 0.23765904  ]\n",
    "\n",
    "# Mostrar los números aleatorioS\n",
    "print(\"Números aleatorios:\")\n",
    "print(random_numbers)\n",
    "\n",
    "# 2. Dividir el rango [0, 1] en 10 intervalos ( se puede ajustar segun necesidades)\n",
    "intervalos = 5\n",
    "observed_counts, bin_edges = np.histogram(random_numbers, bins=intervalos)\n",
    "\n",
    "# 3. Número esperado en cada intervalo si la distribución es uniforme\n",
    "expected_count = n / intervalos  # Deberían caer el mismo número de números en cada intervalo\n",
    "\n",
    "# 4. Prueba de Chi-Cuadrado\n",
    "chi2_statistic, p_value = stats.chisquare(observed_counts, [expected_count]*intervalos)\n",
    "\n",
    "# 5. Mostrar resultados\n",
    "print(\"\\nBins = Categorias:\", bin_edges)\n",
    "print(\"\\nFrecuencias observadas por intervalo:\", observed_counts)\n",
    "print(\"Frecuencia esperada por intervalo:\", expected_count)\n",
    "print(\"Chi-Cuadrado:\", chi2_statistic)\n",
    "print(\"Valor p:\", p_value)\n",
    "\n",
    "# Interpretación del resultado\n",
    "if p_value < 0.05:\n",
    "    print(\"\\nRechazamos la hipótesis nula: la distribución no es uniforme.\")\n",
    "else:\n",
    "    print(\"\\nNo podemos rechazar la hipótesis nula: la distribución parece uniforme.\")"
   ]
  },
  {
   "cell_type": "code",
   "execution_count": null,
   "id": "88c7c381",
   "metadata": {},
   "outputs": [],
   "source": []
  },
  {
   "cell_type": "code",
   "execution_count": 13,
   "id": "6cea7382",
   "metadata": {
    "scrolled": true
   },
   "outputs": [
    {
     "name": "stdout",
     "output_type": "stream",
     "text": [
      "Números aleatorios:\n",
      "[0.14668602, 0.54427053, 0.23045344, 0.181794133, 0.26260921, 0.10275745, 0.50620145, 0.31257412, 0.59867091, 0.40920329, 0.34261071, 0.33542326, 0.61164947, 0.27293881, 0.19984419, 0.241214, 0.51083715, 0.06242835, 0.12189043, 0.23765904]\n",
      "\n",
      "Bins = Categorias: [0.06242835 0.17227257 0.2821168  0.39196102 0.50180525 0.61164947]\n",
      "\n",
      "Frecuencias observadas por intervalo: [4 7 3 1 5]\n",
      "Frecuencia esperada por intervalo: 4.0\n",
      "Chi-Cuadrado: 5.0\n",
      "Valor p: 0.2872974951836458\n",
      "\n",
      "No podemos rechazar la hipótesis nula: la distribución parece uniforme.\n"
     ]
    }
   ],
   "source": [
    "import numpy as np\n",
    "import scipy.stats as stats\n",
    "\n",
    "# 1. Generar 20 números aleatorios en el rango [0, 1]\n",
    "n = 20\n",
    "random_numbers = [  0.14668602, 0.54427053, 0.23045344, 0.181794133, 0.26260921, 0.10275745,\n",
    " 0.50620145, 0.31257412, 0.59867091, 0.40920329, 0.34261071, 0.33542326,\n",
    " 0.61164947, 0.27293881, 0.19984419, 0.241214,   0.51083715, 0.06242835,\n",
    " 0.12189043, 0.23765904  ]\n",
    "\n",
    "# Mostrar los números aleatorioS\n",
    "print(\"Números aleatorios:\")\n",
    "print(random_numbers)\n",
    "\n",
    "# 2. Dividir el rango [0, 1] en 10 intervalos ( se puede ajustar segun necesidades)\n",
    "intervalos = 5\n",
    "observed_counts, bin_edges = np.histogram(random_numbers, bins=intervalos)\n",
    "\n",
    "# 3. Número esperado en cada intervalo si la distribución es uniforme\n",
    "expected_count = n / intervalos  # Deberían caer el mismo número de números en cada intervalo\n",
    "\n",
    "# 4. Prueba de Chi-Cuadrado\n",
    "chi2_statistic, p_value = stats.chisquare(observed_counts, [expected_count]*intervalos)\n",
    "\n",
    "# 5. Mostrar resultados\n",
    "print(\"\\nBins = Categorias:\", bin_edges)\n",
    "print(\"\\nFrecuencias observadas por intervalo:\", observed_counts)\n",
    "print(\"Frecuencia esperada por intervalo:\", expected_count)\n",
    "print(\"Chi-Cuadrado:\", chi2_statistic)\n",
    "print(\"Valor p:\", p_value)\n",
    "\n",
    "# Interpretación del resultado\n",
    "if p_value < 0.05:\n",
    "    print(\"\\nRechazamos la hipótesis nula: la distribución no es uniforme.\")\n",
    "else:\n",
    "    print(\"\\nNo podemos rechazar la hipótesis nula: la distribución parece uniforme.\")"
   ]
  },
  {
   "cell_type": "code",
   "execution_count": null,
   "id": "a0c5a8c7",
   "metadata": {},
   "outputs": [],
   "source": [
    "## Histograma para er la distribucion de "
   ]
  },
  {
   "cell_type": "code",
   "execution_count": 14,
   "id": "4fdb0afc",
   "metadata": {},
   "outputs": [
    {
     "data": {
      "image/png": "[encoded data removed]",
      "text/plain": [
       "<Figure size 640x480 with 1 Axes>"
      ]
     },
     "metadata": {},
     "output_type": "display_data"
    }
   ],
   "source": [
    "import matplotlib.pyplot as plt\n",
    "\n",
    "fig, ax = plt.subplots()\n",
    "ax.hist(random_numbers)\n",
    "plt.show()"
   ]
  },
  {
   "cell_type": "code",
   "execution_count": null,
   "id": "927db23b",
   "metadata": {},
   "outputs": [],
   "source": []
  }
 ],
 "metadata": {
  "kernelspec": {
   "display_name": "Python 3 (ipykernel)",
   "language": "python",
   "name": "python3"
  },
  "language_info": {
   "codemirror_mode": {
    "name": "ipython",
    "version": 3
   },
   "file_extension": ".py",
   "mimetype": "text/x-python",
   "name": "python",
   "nbconvert_exporter": "python",
   "pygments_lexer": "ipython3",
   "version": "3.11.5"
  }
 },
 "nbformat": 4,
 "nbformat_minor": 5
}
