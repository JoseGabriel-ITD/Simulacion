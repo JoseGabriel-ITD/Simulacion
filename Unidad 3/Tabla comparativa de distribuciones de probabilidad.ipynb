{
 "cells": [
  {
   "cell_type": "markdown",
   "id": "f88eb3d0",
   "metadata": {},
   "source": [
    "![](CintillaTecNM-ITD.png)"
   ]
  },
  {
   "cell_type": "markdown",
   "id": "8f2504d7",
   "metadata": {},
   "source": [
    "# Simulación\n",
    "\n",
    "## Unidad 3. Variables Aleatorias \n",
    "\n",
    "### Facilitador: José Gabriel Rodríguez Rivas"
   ]
  },
  {
   "cell_type": "markdown",
   "id": "0ebbeb08",
   "metadata": {},
   "source": [
    "<div style=\"color: blue;\">\n",
    "<h2> Tabla comparativa con las principales distribuciones de probabilidad utilizadas en simulación\n",
    "</div> \n",
    "\n",
    "A continuación se presenta una *tabla comparativa con las principales distribuciones de probabilidad utilizadas en simulación*, incluyendo sus aplicaciones típicas, función de densidad de probabilidad (FDP), tipo de eventos (continuos o discretos), parámetros y otros detalles importantes.\n",
    "\n",
    "| **Distribución**      | **Aplicación Típica**                                          | **Función de Densidad de Probabilidad (FDP)**                                                                                     | **Eventos** (Continuos/Discretos) | **Parámetros**                            | **Datos Adicionales**                                                                                                                                              |\n",
    "|-----------------------|---------------------------------------------------------------|-----------------------------------------------------------------------------------------------------------------------------|-----------------------------------|-------------------------------------------|--------------------------------------------------------------------------------------------------------------------------------------------------------------------|\n",
    "| **Uniforme (Continua)** | Generación de números aleatorios; situaciones de igualdad de probabilidades | \\[ f(x) = \\frac{1}{b - a} \\text{ para } a \\leq x \\leq b \\]                                                                    | Continuos                        | \\(a\\): límite inferior <br> \\(b\\): límite superior | Todos los valores entre \\(a\\) y \\(b\\) son igualmente probables; útil para generar valores aleatorios en simulación.                                                |\n",
    "| **Uniforme (Discreta)** | Juegos de azar, sorteo de números                             | \\[ f(x) = \\frac{1}{b - a + 1} \\text{ para } x = a, a+1, ..., b \\]                                                            | Discretos                        | \\(a\\): límite inferior <br> \\(b\\): límite superior | Todos los valores posibles son igualmente probables; se usa en simulación donde los eventos discretos tienen la misma probabilidad.                                  |\n",
    "| **Exponencial**        | Tiempos entre eventos, como tiempos de espera en colas        | \\[ f(x) = \\lambda e^{-\\lambda x} \\text{ para } x \\geq 0 \\]                                                                   | Continuos                        | \\(\\lambda\\): tasa de eventos               | Modela el tiempo entre eventos en un proceso de Poisson; útil para tiempos de espera, fallos de sistemas, tiempos de servicio.                                        |\n",
    "| **Normal (Gaussiana)** | Fenómenos naturales, como alturas, errores de medición        | \\[ f(x) = \\frac{1}{\\sigma \\sqrt{2\\pi}} e^{-\\frac{(x-\\mu)^2}{2\\sigma^2}} \\]                                                   | Continuos                        | \\(\\mu\\): media <br> \\(\\sigma\\): desviación estándar | La más utilizada en simulaciones, modela muchos fenómenos donde los valores tienden a agruparse alrededor de la media.                                               |\n",
    "| **Poisson**            | Número de llegadas o eventos por unidad de tiempo             | \\[ f(k) = \\frac{\\lambda^k e^{-\\lambda}}{k!} \\text{ para } k = 0, 1, 2, \\dots \\]                                              | Discretos                        | \\(\\lambda\\): tasa de ocurrencia            | Se utiliza para modelar la ocurrencia de eventos independientes en intervalos de tiempo fijos (llegadas de clientes, llamadas, errores).                              |\n",
    "| **Binomial**           | Número de éxitos en ensayos independientes                    | \\[ f(k) = \\binom{n}{k} p^k (1 - p)^{n - k} \\]                                                                                | Discretos                        | \\(n\\): número de ensayos <br> \\(p\\): probabilidad de éxito en cada ensayo | Se utiliza cuando hay un número fijo de ensayos independientes, y cada ensayo tiene dos posibles resultados (éxito o fracaso).                                        |\n",
    "| **Gamma**              | Modelado de tiempos de espera acumulados                      | \\[ f(x) = \\frac{\\lambda^k x^{k-1} e^{-\\lambda x}}{(k-1)!} \\text{ para } x \\geq 0 \\]                                           | Continuos                        | \\(\\lambda\\): tasa de eventos <br> \\(k\\): número de eventos | Extiende la distribución exponencial; útil cuando el tiempo de espera es el acumulado de varios eventos (modelado de tiempos de servicio o inactividad).               |\n",
    "| **Erlang**             | Tiempos de espera acumulados con \\(k\\) fases idénticas        | Similar a la Gamma, pero con \\(k\\) como entero.                                                                               | Continuos                        | \\(\\lambda\\): tasa de eventos <br> \\(k\\): número entero de fases | Es un caso particular de la distribución Gamma, donde \\(k\\) es un número entero, usada principalmente en telecomunicaciones y colas.                                   |\n",
    "| **Lognormal**          | Tiempos de inactividad, precios financieros                   | \\[ f(x) = \\frac{1}{x \\sigma \\sqrt{2\\pi}} e^{-\\frac{(\\ln x - \\mu)^2}{2\\sigma^2}} \\text{ para } x > 0 \\]                        | Continuos                        | \\(\\mu\\): media del logaritmo <br> \\(\\sigma\\): desviación estándar del logaritmo | Modela datos positivos y sesgados, como tiempos de inactividad de máquinas o precios de mercado; se usa cuando los logaritmos de los datos siguen una distribución normal. |\n",
    "| **Weibull**            | Tiempos de vida de componentes (análisis de supervivencia)    | \\[ f(x) = \\frac{\\beta}{\\eta} \\left(\\frac{x}{\\eta}\\right)^{\\beta-1} e^{-(x/\\eta)^\\beta} \\text{ para } x \\geq 0 \\]             | Continuos                        | \\(\\eta\\): escala <br> \\(\\beta\\): forma       | Se usa para modelar tiempos de vida y fallos en ingeniería; según el valor de \\(\\beta\\), puede modelar diferentes tipos de fallos (crecientes o decrecientes).          |\n",
    "| **Geometrica**         | Número de ensayos hasta el primer éxito                       | \\[ f(k) = (1-p)^{k-1} p \\text{ para } k = 1, 2, \\dots \\]                                                                     | Discretos                        | \\(p\\): probabilidad de éxito               | Modela el número de ensayos hasta el primer éxito; utilizada en simulaciones de procesos de Bernoulli como el tiempo hasta la primera falla.                          |\n",
    "| **Beta**               | Modelado de proporciones y tasas                              | \\[ f(x) = \\frac{x^{\\alpha-1} (1-x)^{\\beta-1}}{B(\\alpha, \\beta)} \\text{ para } 0 \\leq x \\leq 1 \\]                             | Continuos                        | \\(\\alpha\\), \\(\\beta\\): parámetros de forma  | Se utiliza para modelar proporciones y probabilidades, como tasas de éxito o fracasos en experimentos.                                                               |\n",
    "\n",
    "### Conclusiones:\n",
    "- Las **distribuciones continuas** como la **Normal**, **Exponencial** y **Gamma** son ideales para modelar tiempos y eventos que pueden tomar cualquier valor dentro de un rango.\n",
    "- Las **distribuciones discretas** como la **Binomial**, **Poisson** y **Geometrica** se aplican a eventos contables, como la cantidad de llegadas o éxitos en experimentos.\n",
    "- Cada distribución tiene un conjunto específico de **parámetros** que permiten ajustar su forma a las características observadas en el fenómeno que se está simulando.\n"
   ]
  },
  {
   "cell_type": "code",
   "execution_count": null,
   "id": "e21522d7",
   "metadata": {},
   "outputs": [],
   "source": []
  }
 ],
 "metadata": {
  "kernelspec": {
   "display_name": "Python 3 (ipykernel)",
   "language": "python",
   "name": "python3"
  },
  "language_info": {
   "codemirror_mode": {
    "name": "ipython",
    "version": 3
   },
   "file_extension": ".py",
   "mimetype": "text/x-python",
   "name": "python",
   "nbconvert_exporter": "python",
   "pygments_lexer": "ipython3",
   "version": "3.11.5"
  }
 },
 "nbformat": 4,
 "nbformat_minor": 5
}
