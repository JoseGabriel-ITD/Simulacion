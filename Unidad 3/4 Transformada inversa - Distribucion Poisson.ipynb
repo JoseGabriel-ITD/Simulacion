{
 "cells": [
  {
   "cell_type": "markdown",
   "id": "f88eb3d0",
   "metadata": {},
   "source": [
    "![](CintillaTecNM-ITD.png)"
   ]
  },
  {
   "cell_type": "markdown",
   "id": "8f2504d7",
   "metadata": {},
   "source": [
    "# Simulación\n",
    "\n",
    "## Unidad 3. Variables Aleatorias \n",
    "\n",
    "### Facilitador: José Gabriel Rodríguez Rivas"
   ]
  },
  {
   "cell_type": "markdown",
   "id": "d91cf46e",
   "metadata": {},
   "source": [
    "<div style=\"color: blue;\">\n",
    "<h2> Practica 4: Simular la demanda diaria de clientes en una tienda de telefono móviles.\n",
    "</div>"
   ]
  },
  {
   "cell_type": "markdown",
   "id": "e4a45b25",
   "metadata": {},
   "source": [
    "### 1. **Contexto de la situación**\n",
    "\n",
    "Imagina que una tienda en línea gestiona inventarios de productos tecnológicos, como **teléfonos móviles**. La demanda diaria de estos productos varía de manera impredecible, influenciada por promociones, tendencias y comportamientos de los clientes. El desafío para los gestores de inventarios es mantener el **stock óptimo**: si tienen demasiados productos en inventario, incurren en costos de almacenamiento, pero si el stock es insuficiente, pierden ventas y clientes.\n",
    "\n",
    "Para optimizar la gestión de inventarios, es fundamental modelar la **demanda diaria de clientes** como una **variable aleatoria**. De esta manera, se pueden realizar simulaciones que permitan calcular el nivel de inventario que minimice los costos y maximice las ventas, mientras se satisface la demanda en la mayoría de los días.\n",
    "\n",
    "### 2. **Justificación de la distribución de probabilidad**\n",
    "\n",
    "En este caso, una **distribución Poisson** es la más adecuada para modelar la **demanda diaria de clientes** por varias razones:\n",
    "\n",
    "- **Demanda discreta**: La demanda diaria es un número entero de unidades (por ejemplo, 1, 2, 3 teléfonos móviles). La distribución Poisson es ideal para modelar eventos discretos que ocurren dentro de un periodo fijo de tiempo.\n",
    "- **Promedio constante**: Aunque la demanda varía diariamente, la distribución Poisson asume que el promedio (o tasa) de eventos (en este caso, la demanda de clientes) es constante. Esto es realista para productos que no tienen grandes fluctuaciones diarias, pero experimentan variaciones pequeñas alrededor de un promedio.\n",
    "- **Eventos independientes**: La demanda de un día es generalmente independiente de la demanda de otro día, lo que es consistente con la propiedad de la independencia en la distribución Poisson.\n",
    "\n",
    "### Aplicación del **método de la transformada inversa** con la distribución Poisson\n",
    "\n",
    "El método de la **transformada inversa** se puede utilizar para generar variables aleatorias que siguen una distribución Poisson, representando la demanda diaria de los clientes.\n",
    "\n",
    "#### Pasos para aplicar la transformada inversa con una distribución Poisson:\n",
    "\n",
    "1. **Función de distribución acumulada (FDA)**: Para la distribución Poisson, la FDA no tiene una forma cerrada simple, pero se puede aproximar sumando las probabilidades acumuladas para diferentes valores de la demanda.\n",
    "\n",
    "2. **Generar un número aleatorio uniforme \\( U \\)**: Generamos un número aleatorio uniforme \\( U \\) entre 0 y 1.\n",
    "\n",
    "3. **Aplicar la transformada inversa**: Encontramos el menor valor \\( x \\) tal que la función de distribución acumulada \\( F(x) \\geq U \\). Este valor \\( x \\) será el valor de la demanda diaria simulada.\n",
    "\n",
    "\n",
    "### 3. **Contexto de la simulación y justificación**\n",
    "\n",
    "#### Contexto:\n",
    "- **Simulación de demanda**: En este ejemplo, la tienda puede utilizar la simulación de la demanda diaria de clientes para prever cuántos productos venderán en un período determinado.\n",
    "- **Optimización del inventario**: La tienda puede ejecutar múltiples simulaciones de demanda para calcular cuál es el nivel de stock que cubrirá la mayoría de los días sin quedarse corto, al tiempo que minimiza el exceso de inventario.\n",
    "\n",
    "#### Justificación del uso de la **distribución Poisson**:\n",
    "- **Datos históricos**: Si la tienda tiene datos históricos que muestran que la demanda diaria oscila alrededor de un promedio constante (por ejemplo, 5 productos al día), la distribución Poisson es ideal para modelar estos eventos.\n",
    "- **Modelado de eventos raros**: La distribución Poisson también es útil para modelar eventos raros como días con muy alta demanda, algo que puede ocurrir durante promociones o ventas especiales.\n",
    "\n",
    "*El método de la transformada inversa con la distribución Poisson permite generar variables aleatorias que simulan la demanda de los clientes.*   \n",
    "\n",
    "*Es útil para gestionar los niveles de inventario en un sistema donde la demanda diaria varía de manera aleatoria, ayudando a reducir costos de almacenamiento y pérdida de ventas.*"
   ]
  },
  {
   "cell_type": "code",
   "execution_count": 1,
   "id": "efe7a4d6",
   "metadata": {},
   "outputs": [
    {
     "name": "stdout",
     "output_type": "stream",
     "text": [
      "Demanda diaria simulada: [4, 6, 5, 2, 4, 9, 6, 5, 7, 3, 2, 7, 4, 6, 2, 4, 4, 5, 2, 9, 5, 4, 2, 5, 3, 5, 4, 6, 4, 1, 7, 6, 3, 8, 3, 5, 6, 4, 6, 9, 4, 1, 5, 7, 4, 7, 7, 5, 4, 7, 5, 3, 4, 7, 4, 4, 4, 7, 10, 0, 3, 3, 3, 5, 3, 7, 3, 8, 4, 2, 4, 7, 2, 3, 5, 3, 4, 4, 4, 4, 0, 4, 5, 5, 5, 9, 5, 7, 7, 4, 2, 1, 11, 4, 8, 2, 4, 6, 4, 5]\n"
     ]
    },
    {
     "data": {
      "image/png": "[encoded data removed]",
      "text/plain": [
       "<Figure size 640x480 with 1 Axes>"
      ]
     },
     "metadata": {},
     "output_type": "display_data"
    }
   ],
   "source": [
    "import numpy as np\n",
    "import matplotlib.pyplot as plt\n",
    "\n",
    "# Parámetro de la distribución Poisson (media de la demanda diaria)\n",
    "lambda_poisson = 5  # Por ejemplo, 5 teléfonos móviles por día\n",
    "\n",
    "# Generar una variable aleatoria uniforme U ~ Uniform(0, 1)\n",
    "n = 100  # Número de simulaciones\n",
    "U = np.random.uniform(0, 1, n)\n",
    "\n",
    "# Aplicar la transformada inversa para la distribución Poisson\n",
    "def poisson_inverse_transform(lambda_poisson, U):\n",
    "    k = 0\n",
    "    F_k = np.exp(-lambda_poisson)  # Primera probabilidad acumulada (k=0)\n",
    "    while U > F_k:\n",
    "        k += 1\n",
    "        F_k += (lambda_poisson**k * np.exp(-lambda_poisson)) / np.math.factorial(k)\n",
    "    return k\n",
    "\n",
    "# Generar demanda simulada usando transformada inversa\n",
    "demanda_simulada = [poisson_inverse_transform(lambda_poisson, u) for u in U]\n",
    "\n",
    "# Mostrar los resultados\n",
    "print(\"Demanda diaria simulada:\", demanda_simulada)\n",
    "\n",
    "# Graficar histograma de la demanda simulada\n",
    "plt.hist(demanda_simulada, bins=np.arange(0, max(demanda_simulada) + 1) - 0.5, edgecolor='black', density=True)\n",
    "plt.title(\"Simulación de demanda diaria (Distribución Poisson)\")\n",
    "plt.xlabel(\"Número de productos demandados\")\n",
    "plt.ylabel(\"Frecuencia\")\n",
    "plt.show()\n"
   ]
  },
  {
   "cell_type": "code",
   "execution_count": null,
   "id": "e48508f6",
   "metadata": {},
   "outputs": [],
   "source": []
  },
  {
   "cell_type": "code",
   "execution_count": null,
   "id": "3d121981",
   "metadata": {},
   "outputs": [],
   "source": []
  },
  {
   "cell_type": "code",
   "execution_count": null,
   "id": "e9db7f63",
   "metadata": {},
   "outputs": [],
   "source": []
  }
 ],
 "metadata": {
  "kernelspec": {
   "display_name": "Python 3 (ipykernel)",
   "language": "python",
   "name": "python3"
  },
  "language_info": {
   "codemirror_mode": {
    "name": "ipython",
    "version": 3
   },
   "file_extension": ".py",
   "mimetype": "text/x-python",
   "name": "python",
   "nbconvert_exporter": "python",
   "pygments_lexer": "ipython3",
   "version": "3.11.5"
  }
 },
 "nbformat": 4,
 "nbformat_minor": 5
}
