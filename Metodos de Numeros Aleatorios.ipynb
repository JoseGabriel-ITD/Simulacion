{
 "cells": [
  {
   "cell_type": "markdown",
   "id": "df010827",
   "metadata": {},
   "source": [
    "![](CintillaTecNM-ITD.png)"
   ]
  },
  {
   "cell_type": "markdown",
   "id": "a1e2a89a",
   "metadata": {},
   "source": [
    "# Simulación\n",
    "\n",
    "## Unidad 2. Números pseudoaleatorios\n",
    "\n",
    "### Facilitador: José Gabriel Rodríguez Rivas"
   ]
  },
  {
   "cell_type": "markdown",
   "id": "af65f0b1",
   "metadata": {},
   "source": [
    "### Métodos de generación de números aleatorios\n",
    "\n",
    "[1-. Método de centros al cuadrado](#opc1)<br>\n",
    "[2-. Método de ..........](#opc2)<br>"
   ]
  },
  {
   "cell_type": "markdown",
   "id": "b0ea3fc3",
   "metadata": {},
   "source": [
    "## 1-. Método de centros al cuadrado <a id=\"opc1\"></a>\n",
    "\n",
    "### Procedimiento\n",
    "1. **Elegir un número semilla**: Selecciona un número de *𝑛* dígitos que actuará como la semilla inicial. Es preferible que n sea par.\n",
    "2. **Elevar la semilla al cuadrado**: Calcula el cuadrado del número semilla.\n",
    "3. **Extraer los dígitos centrales**: Del resultado obtenido en el paso anterior, extrae los *𝑛* dígitos centrales. Si el resultado tiene menos de *2n* dígitos, se agregan ceros a la izquierda para completar la cantidad de dígitos necesaria antes de extraer los *n* dígitos centrales.\n",
    "4. **El número extraído se convierte en la nueva semilla**: El número que obtuviste en el paso anterior se usa como la semilla para el siguiente ciclo.\n",
    "5. **Repetir el proceso**: Repite el proceso para generar más números."
   ]
  },
  {
   "cell_type": "markdown",
   "id": "1bc2a5cc",
   "metadata": {},
   "source": [
    "### Ejemplo\n",
    "\n",
    "Supongamos que elegimos una semilla de 4 dígitos, como 5738.\n",
    "1. **Semilla inicial**: 5738\n",
    "2. **Elevar al cuadrado**: 57382 ^2 = 32924644\n",
    "3. **Extraer dígitos centrales**: De 32924644, extraemos los 4 dígitos centrales: 9246.\n",
    "4. **Nueva semilla**: 9246\n",
    "\n",
    "Repetimos el proceso:\n",
    "1. **Semilla**: 9246\n",
    "2. **Elevar al cuadrado**: 9246 ^2 = 85488516\n",
    "3. **Extraer dígitos centrales**: De 85488516, extraemos los 4 dígitos centrales: 4885.\n",
    "4. **Nueva semilla**: 4885\n"
   ]
  },
  {
   "cell_type": "code",
   "execution_count": 1,
   "id": "2d5cc0dc",
   "metadata": {},
   "outputs": [
    {
     "name": "stdout",
     "output_type": "stream",
     "text": [
      "Iteración 1: 9246\n",
      "Iteración 2: 4885\n",
      "Iteración 3: 8632\n",
      "Iteración 4: 5114\n",
      "Iteración 5: 1529\n",
      "Iteración 6: 3378\n",
      "Iteración 7: 4108\n",
      "Iteración 8: 8756\n",
      "Iteración 9: 6675\n",
      "Iteración 10: 5556\n",
      "Iteración 11: 8691\n",
      "Iteración 12: 5334\n",
      "Iteración 13: 4515\n",
      "Iteración 14: 3852\n",
      "Iteración 15: 8379\n",
      "Iteración 16: 2076\n",
      "Iteración 17: 3097\n",
      "Iteración 18: 5914\n",
      "Iteración 19: 9753\n",
      "Iteración 20: 1210\n",
      "Iteración 21: 4641\n",
      "Iteración 22: 5388\n",
      "Iteración 23: 305\n",
      "Iteración 24: 930\n",
      "Iteración 25: 8649\n",
      "Iteración 26: 8052\n",
      "Iteración 27: 8347\n",
      "Iteración 28: 6724\n",
      "Iteración 29: 2121\n",
      "Iteración 30: 4986\n",
      "Iteración 31: 8601\n",
      "Iteración 32: 9772\n",
      "Iteración 33: 4919\n",
      "Iteración 34: 1965\n",
      "Iteración 35: 8612\n",
      "Iteración 36: 1665\n",
      "Iteración 37: 7722\n",
      "Iteración 38: 6292\n",
      "Iteración 39: 5892\n",
      "Iteración 40: 7156\n",
      "Iteración 41: 2083\n",
      "Iteración 42: 3388\n",
      "Iteración 43: 4785\n",
      "Iteración 44: 8962\n",
      "Iteración 45: 3174\n",
      "Iteración 46: 742\n",
      "Iteración 47: 5505\n",
      "Iteración 48: 3050\n",
      "Iteración 49: 3025\n",
      "Iteración 50: 1506\n",
      "Iteración 51: 2680\n",
      "Iteración 52: 1824\n",
      "Iteración 53: 3269\n",
      "Iteración 54: 6863\n",
      "Iteración 55: 1007\n",
      "Iteración 56: 140\n",
      "Iteración 57: 196\n",
      "Iteración 58: 384\n",
      "Iteración 59: 1474\n",
      "Iteración 60: 1726\n",
      "Iteración 61: 9790\n",
      "Iteración 62: 8441\n",
      "Iteración 63: 2504\n",
      "Iteración 64: 2700\n",
      "Iteración 65: 2900\n",
      "Iteración 66: 4100\n",
      "Iteración 67: 8100\n",
      "Iteración 68: 6100\n",
      "Iteración 69: 2100\n",
      "Iteración 70: 4100\n",
      "Iteración 71: 8100\n",
      "Iteración 72: 6100\n",
      "Iteración 73: 2100\n",
      "Iteración 74: 4100\n",
      "Iteración 75: 8100\n",
      "Iteración 76: 6100\n",
      "Iteración 77: 2100\n",
      "Iteración 78: 4100\n",
      "Iteración 79: 8100\n",
      "Iteración 80: 6100\n",
      "Iteración 81: 2100\n",
      "Iteración 82: 4100\n",
      "Iteración 83: 8100\n",
      "Iteración 84: 6100\n",
      "Iteración 85: 2100\n",
      "Iteración 86: 4100\n",
      "Iteración 87: 8100\n",
      "Iteración 88: 6100\n",
      "Iteración 89: 2100\n",
      "Iteración 90: 4100\n",
      "Iteración 91: 8100\n",
      "Iteración 92: 6100\n",
      "Iteración 93: 2100\n",
      "Iteración 94: 4100\n",
      "Iteración 95: 8100\n",
      "Iteración 96: 6100\n",
      "Iteración 97: 2100\n",
      "Iteración 98: 4100\n",
      "Iteración 99: 8100\n",
      "Iteración 100: 6100\n"
     ]
    }
   ],
   "source": [
    "# Semilla inicial\n",
    "semilla = 5738\n",
    "\n",
    "n = len(str(5738))\n",
    "iteraciones = 100\n",
    "resultados = []\n",
    "\n",
    "for _ in range(iteraciones):\n",
    "    # Elevar la semilla al cuadrado\n",
    "    cuadrado = str(semilla ** 2).zfill(2 * n)  #Agregar los espacios necesarios\n",
    "    # Extraer los dígitos centrales\n",
    "    inicio = (len(cuadrado) - n) // 2\n",
    "    semilla = int(cuadrado[inicio:inicio + n])\n",
    "    resultados.append(semilla)\n",
    "\n",
    "# Imprimir los resultados\n",
    "# is used to loop over an iterable and automatically provide an index for each item. \n",
    "for i, numero in enumerate(resultados, 1):\n",
    "    print(f\"Iteración {i}: {numero}\")\n"
   ]
  },
  {
   "cell_type": "markdown",
   "id": "1b0aebcc",
   "metadata": {},
   "source": [
    "## 2-. Metodo <a id=\"opc2\"></a>"
   ]
  },
  {
   "cell_type": "code",
   "execution_count": null,
   "id": "ec4cbb67",
   "metadata": {},
   "outputs": [],
   "source": []
  }
 ],
 "metadata": {
  "kernelspec": {
   "display_name": "Python 3 (ipykernel)",
   "language": "python",
   "name": "python3"
  },
  "language_info": {
   "codemirror_mode": {
    "name": "ipython",
    "version": 3
   },
   "file_extension": ".py",
   "mimetype": "text/x-python",
   "name": "python",
   "nbconvert_exporter": "python",
   "pygments_lexer": "ipython3",
   "version": "3.9.13"
  }
 },
 "nbformat": 4,
 "nbformat_minor": 5
}
